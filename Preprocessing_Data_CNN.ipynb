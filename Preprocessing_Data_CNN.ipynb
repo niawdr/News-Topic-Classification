{
  "nbformat": 4,
  "nbformat_minor": 0,
  "metadata": {
    "colab": {
      "provenance": [],
      "gpuType": "T4"
    },
    "kernelspec": {
      "name": "python3",
      "display_name": "Python 3"
    },
    "language_info": {
      "name": "python"
    },
    "accelerator": "GPU"
  },
  "cells": [
    {
      "cell_type": "markdown",
      "source": [
        "# EDA (Exploratory Data Analysis)"
      ],
      "metadata": {
        "id": "9TXWL7HoBiAq"
      }
    },
    {
      "cell_type": "code",
      "source": [
        "from google.colab import drive\n",
        "drive.mount('/content/drive')"
      ],
      "metadata": {
        "colab": {
          "base_uri": "https://localhost:8080/"
        },
        "id": "bXyRZbcmBxme",
        "outputId": "b245d8de-dc7f-407e-c0fb-1aa4e65b9273"
      },
      "execution_count": null,
      "outputs": [
        {
          "output_type": "stream",
          "name": "stdout",
          "text": [
            "Drive already mounted at /content/drive; to attempt to forcibly remount, call drive.mount(\"/content/drive\", force_remount=True).\n"
          ]
        }
      ]
    },
    {
      "cell_type": "code",
      "source": [
        "!pip install tabulate"
      ],
      "metadata": {
        "colab": {
          "base_uri": "https://localhost:8080/"
        },
        "id": "8HDiaQb0C12C",
        "outputId": "dac2b4e6-20ce-46fe-d9b3-cefdc5faf40a"
      },
      "execution_count": null,
      "outputs": [
        {
          "output_type": "stream",
          "name": "stdout",
          "text": [
            "Requirement already satisfied: tabulate in /usr/local/lib/python3.10/dist-packages (0.9.0)\n"
          ]
        }
      ]
    },
    {
      "cell_type": "code",
      "execution_count": null,
      "metadata": {
        "colab": {
          "base_uri": "https://localhost:8080/"
        },
        "id": "KCu2BT1HBejM",
        "outputId": "8f9ff0c7-71a3-454f-eddd-05fc4a9c294f",
        "collapsed": true
      },
      "outputs": [
        {
          "output_type": "stream",
          "name": "stdout",
          "text": [
            "Collecting emoji\n",
            "  Downloading emoji-2.14.0-py3-none-any.whl.metadata (5.7 kB)\n",
            "Downloading emoji-2.14.0-py3-none-any.whl (586 kB)\n",
            "\u001b[?25l   \u001b[90m━━━━━━━━━━━━━━━━━━━━━━━━━━━━━━━━━━━━━━━━\u001b[0m \u001b[32m0.0/586.9 kB\u001b[0m \u001b[31m?\u001b[0m eta \u001b[36m-:--:--\u001b[0m\r\u001b[2K   \u001b[91m━━━━━━━━━━━━━━━━━━━━━━━━━\u001b[0m\u001b[90m╺\u001b[0m\u001b[90m━━━━━━━━━━━━━━\u001b[0m \u001b[32m368.6/586.9 kB\u001b[0m \u001b[31m11.2 MB/s\u001b[0m eta \u001b[36m0:00:01\u001b[0m\r\u001b[2K   \u001b[90m━━━━━━━━━━━━━━━━━━━━━━━━━━━━━━━━━━━━━━━━\u001b[0m \u001b[32m586.9/586.9 kB\u001b[0m \u001b[31m12.3 MB/s\u001b[0m eta \u001b[36m0:00:00\u001b[0m\n",
            "\u001b[?25hInstalling collected packages: emoji\n",
            "Successfully installed emoji-2.14.0\n",
            "Requirement already satisfied: pandas in /usr/local/lib/python3.10/dist-packages (2.2.2)\n",
            "Requirement already satisfied: numpy>=1.22.4 in /usr/local/lib/python3.10/dist-packages (from pandas) (1.26.4)\n",
            "Requirement already satisfied: python-dateutil>=2.8.2 in /usr/local/lib/python3.10/dist-packages (from pandas) (2.8.2)\n",
            "Requirement already satisfied: pytz>=2020.1 in /usr/local/lib/python3.10/dist-packages (from pandas) (2024.2)\n",
            "Requirement already satisfied: tzdata>=2022.7 in /usr/local/lib/python3.10/dist-packages (from pandas) (2024.2)\n",
            "Requirement already satisfied: six>=1.5 in /usr/local/lib/python3.10/dist-packages (from python-dateutil>=2.8.2->pandas) (1.16.0)\n",
            "Requirement already satisfied: nltk in /usr/local/lib/python3.10/dist-packages (3.9.1)\n",
            "Requirement already satisfied: click in /usr/local/lib/python3.10/dist-packages (from nltk) (8.1.7)\n",
            "Requirement already satisfied: joblib in /usr/local/lib/python3.10/dist-packages (from nltk) (1.4.2)\n",
            "Requirement already satisfied: regex>=2021.8.3 in /usr/local/lib/python3.10/dist-packages (from nltk) (2024.9.11)\n",
            "Requirement already satisfied: tqdm in /usr/local/lib/python3.10/dist-packages (from nltk) (4.66.6)\n",
            "Collecting sastrawi\n",
            "  Downloading Sastrawi-1.0.1-py2.py3-none-any.whl.metadata (909 bytes)\n",
            "Downloading Sastrawi-1.0.1-py2.py3-none-any.whl (209 kB)\n",
            "\u001b[2K   \u001b[90m━━━━━━━━━━━━━━━━━━━━━━━━━━━━━━━━━━━━━━━━\u001b[0m \u001b[32m209.7/209.7 kB\u001b[0m \u001b[31m5.0 MB/s\u001b[0m eta \u001b[36m0:00:00\u001b[0m\n",
            "\u001b[?25hInstalling collected packages: sastrawi\n",
            "Successfully installed sastrawi-1.0.1\n"
          ]
        }
      ],
      "source": [
        "!pip install emoji\n",
        "!pip install pandas\n",
        "!pip install nltk\n",
        "!pip install sastrawi"
      ]
    },
    {
      "cell_type": "markdown",
      "source": [
        "1. Identifikasi Data"
      ],
      "metadata": {
        "id": "zOip6S4ZCYgp"
      }
    },
    {
      "cell_type": "code",
      "source": [
        "# Import libraries\n",
        "import pandas as pd\n",
        "from tabulate import tabulate\n",
        "\n",
        "# Load dataset\n",
        "file_path = \"/content/drive/MyDrive/DST/Copy of Salinan cnn_dataset_with_label.xlsx\"\n",
        "df = pd.read_excel(file_path)\n",
        "\n",
        "# Basic information\n",
        "def basic_info(df):\n",
        "    return {\n",
        "        \"Total Rows\": len(df),\n",
        "        \"Total Columns\": len(df.columns),\n",
        "        \"Null Values\": df.isnull().sum().sum(),\n",
        "        \"Duplicate Rows\": df.duplicated().sum()\n",
        "    }\n",
        "\n",
        "# Data types and missing values\n",
        "def data_summary(df):\n",
        "    summary = pd.DataFrame({\n",
        "        \"Column\": df.columns,\n",
        "        \"Data Type\": df.dtypes,\n",
        "        \"Non-Null Count\": df.count(),\n",
        "        \"Missing Count\": df.isnull().sum(),\n",
        "        \"Unique Count\": df.nunique(),\n",
        "    }).reset_index(drop=True)\n",
        "    return summary\n",
        "\n",
        "# Label distribution\n",
        "def label_distribution(df, label):\n",
        "    if label in df.columns:\n",
        "        distribution = df[label].value_counts().reset_index()\n",
        "        distribution.columns = [\"Label\", \"Count\"]\n",
        "        return distribution\n",
        "    else:\n",
        "        return pd.DataFrame({\"Error\": [\"Label column not found\"]})\n",
        "\n",
        "# Generate summary tables\n",
        "basic_stats = basic_info(df)\n",
        "data_overview = data_summary(df)\n",
        "label_dist = label_distribution(df, \"label\")\n",
        "\n",
        "# Display results as tables\n",
        "print(\"Basic Dataset Information:\\n\")\n",
        "print(tabulate([basic_stats.items()], headers=[\"Metric\", \"Value\"], tablefmt=\"pretty\"))\n",
        "\n",
        "print(\"\\nColumn-wise Summary:\\n\")\n",
        "print(tabulate(data_overview, headers=\"keys\", tablefmt=\"pretty\"))\n",
        "\n",
        "print(\"\\nLabel Distribution:\\n\")\n",
        "print(tabulate(label_dist, headers=\"keys\", tablefmt=\"pretty\"))"
      ],
      "metadata": {
        "colab": {
          "base_uri": "https://localhost:8080/"
        },
        "id": "BRTpKr9oCTff",
        "outputId": "06e057ea-b07a-4c22-cf3b-452c15ebfb4c"
      },
      "execution_count": null,
      "outputs": [
        {
          "output_type": "stream",
          "name": "stdout",
          "text": [
            "Basic Dataset Information:\n",
            "\n",
            "+-----------------------+----------------------+--------------------+-----------------------+\n",
            "|                       |                      |       Metric       |         Value         |\n",
            "+-----------------------+----------------------+--------------------+-----------------------+\n",
            "| ('Total Rows', 12227) | ('Total Columns', 4) | ('Null Values', 0) | ('Duplicate Rows', 2) |\n",
            "+-----------------------+----------------------+--------------------+-----------------------+\n",
            "\n",
            "Column-wise Summary:\n",
            "\n",
            "+---+---------+-----------+----------------+---------------+--------------+\n",
            "|   | Column  | Data Type | Non-Null Count | Missing Count | Unique Count |\n",
            "+---+---------+-----------+----------------+---------------+--------------+\n",
            "| 0 |  title  |  object   |     12227      |       0       |    11972     |\n",
            "| 1 | content |  object   |     12227      |       0       |    11869     |\n",
            "| 2 |   url   |  object   |     12227      |       0       |    12225     |\n",
            "| 3 |  label  |  object   |     12227      |       0       |      6       |\n",
            "+---+---------+-----------+----------------+---------------+--------------+\n",
            "\n",
            "Label Distribution:\n",
            "\n",
            "+---+------------------+-------+\n",
            "|   |      Label       | Count |\n",
            "+---+------------------+-------+\n",
            "| 0 |     hiburan      | 2174  |\n",
            "| 1 |     politik      | 2027  |\n",
            "| 2 |     ekonomi      | 2026  |\n",
            "| 3 |    teknologi     | 2000  |\n",
            "| 4 | hukumdankriminal | 2000  |\n",
            "| 5 |    kesehatan     | 2000  |\n",
            "+---+------------------+-------+\n"
          ]
        }
      ]
    },
    {
      "cell_type": "markdown",
      "source": [
        "# Preprocesing"
      ],
      "metadata": {
        "id": "o4_4J_JsEWav"
      }
    },
    {
      "cell_type": "markdown",
      "source": [
        "1. Menghapus Atribut yang Tidak Berguna\n"
      ],
      "metadata": {
        "id": "OhF7byOgGyEI"
      }
    },
    {
      "cell_type": "code",
      "source": [
        "import pandas as pd\n",
        "from tabulate import tabulate\n",
        "\n",
        "# Penghapusan Atribut yang Tidak Berguna\n",
        "# Drop 'url' column\n",
        "df = df.drop(columns=['url'], errors='ignore')\n",
        "\n",
        "# Function to truncate text for better readability\n",
        "def truncate_text(text, max_length=50):\n",
        "    return text if isinstance(text, str) and len(text) <= max_length else str(text)[:max_length] + \"...\"\n",
        "\n",
        "# Apply truncation to 'content' column for display\n",
        "df_display = df.head(5).copy()\n",
        "df_display['title'] = df_display['title'].apply(lambda x: truncate_text(x, max_length=50))\n",
        "df_display['content'] = df_display['content'].apply(lambda x: truncate_text(x, max_length=100))\n",
        "\n",
        "print(\"\\nUpdated Dataset after Dropping 'url' :\\n\")\n",
        "print(tabulate(df_display[['title', 'content', 'label']].head(5), headers='keys', tablefmt='pretty'))\n",
        "\n",
        "# Simpan hasil untuk langkah selanjutnya\n",
        "df_step_1 = df.copy()"
      ],
      "metadata": {
        "colab": {
          "base_uri": "https://localhost:8080/"
        },
        "id": "CznTcYsFCbpM",
        "outputId": "9fac6560-914b-4eb9-810a-0986518e4959"
      },
      "execution_count": null,
      "outputs": [
        {
          "output_type": "stream",
          "name": "stdout",
          "text": [
            "\n",
            "Updated Dataset after Dropping 'url' :\n",
            "\n",
            "+---+-------------------------------------------------------+---------------------------------------------------------------------------------------------------------+-----------+\n",
            "|   |                         title                         |                                                 content                                                 |   label   |\n",
            "+---+-------------------------------------------------------+---------------------------------------------------------------------------------------------------------+-----------+\n",
            "| 0 | AS Paksa Google Jual Chrome hingga Lepas Android, ... | Jakarta, CNN Indonesia Departemen Kehakiman AS (DOJ) dilaporkan tengah menyiapkan langkah hukum untu... | teknologi |\n",
            "| 1 | Apple Mau Tambah Investasi Rp1,5 Triliun Demi Jual... | Jakarta, CNN Indonesia Appledikabarkan meningkatkan penawarannya untuk berinvestasi di Indonesia hin... | teknologi |\n",
            "| 2 | Aturan Pajak Karbon, RI Berpotensi Kehilangan Pasa... | Baku, CNN Indonesia Pengusaha besi-baja dan amonia asal Indonesia berpotensi kehilangan pendapatan d... | teknologi |\n",
            "| 3 | Google Garap Fitur Email Sementara Gmail, Cek Tuju... | Jakarta, CNN Indonesia Googledikabarkan tengah menguji coba fitur email sementara di platformGmailun... | teknologi |\n",
            "| 4 | Lenovo Rilis Yoga Slim 7i Aura Edition Gen 9, Cek ... | Jakarta, CNN Indonesia Lenovomemberikan penyegaran untuk laptop Yoga Slim 7i (Gen 9) dengan menghadi... | teknologi |\n",
            "+---+-------------------------------------------------------+---------------------------------------------------------------------------------------------------------+-----------+\n"
          ]
        }
      ]
    },
    {
      "cell_type": "markdown",
      "source": [
        "2. Menghapus Judul dengn Pola yang Tidak di Inginkan"
      ],
      "metadata": {
        "id": "Jccg9TBrG7hZ"
      }
    },
    {
      "cell_type": "code",
      "source": [
        "# Define unwanted title patterns\n",
        "unwanted_patterns = ['VIDEO:', 'FOTO:', 'No Title', 'video:', 'foto:', 'no title']\n",
        "\n",
        "# Filter rows with unwanted patterns\n",
        "rows_with_unwanted_patterns = df_step_1[df_step_1['title'].str.startswith(tuple(unwanted_patterns), na=False)]\n",
        "\n",
        "# Display rows with unwanted patterns (sebelum penghapusan)\n",
        "print(\"\\nRows with Unwanted Patterns (Before Removal):\\n\")\n",
        "rows_with_unwanted_patterns_display = rows_with_unwanted_patterns.copy()\n",
        "rows_with_unwanted_patterns_display['title'] = rows_with_unwanted_patterns_display['title'].apply(lambda x: truncate_text(x, max_length=50))\n",
        "rows_with_unwanted_patterns_display['content'] = rows_with_unwanted_patterns_display['content'].apply(lambda x: truncate_text(x, max_length=100))\n",
        "print(tabulate(rows_with_unwanted_patterns_display[['title', 'content', 'label']].head(5), headers=\"keys\", tablefmt=\"pretty\"))\n",
        "\n",
        "# Drop rows where 'title' starts with unwanted patterns\n",
        "df_step_2 = df_step_1[~df_step_1['title'].str.startswith(tuple(unwanted_patterns), na=False)]\n",
        "\n",
        "# Display the cleaned dataset (setelah penghapusan)\n",
        "print(\"\\nDataset After Removing Unwanted Rows:\\n\")\n",
        "df_cleaned_display = df_step_2.copy()\n",
        "df_cleaned_display['title'] = df_cleaned_display['title'].apply(lambda x: truncate_text(x, max_length=50))\n",
        "df_cleaned_display['content'] = df_cleaned_display['content'].apply(lambda x: truncate_text(x, max_length=100))\n",
        "print(tabulate(df_cleaned_display[['title', 'content', 'label']].head(5), headers=\"keys\", tablefmt=\"pretty\"))\n"
      ],
      "metadata": {
        "colab": {
          "base_uri": "https://localhost:8080/"
        },
        "id": "nmoRtgMkLcji",
        "outputId": "aaa4ea9d-3080-459c-990b-0248581c4044"
      },
      "execution_count": null,
      "outputs": [
        {
          "output_type": "stream",
          "name": "stdout",
          "text": [
            "\n",
            "Rows with Unwanted Patterns (Before Removal):\n",
            "\n",
            "+----+-------------------------------------------------------+---------------------------------------------------------------------------------------------------------+-----------+\n",
            "|    |                         title                         |                                                 content                                                 |   label   |\n",
            "+----+-------------------------------------------------------+---------------------------------------------------------------------------------------------------------+-----------+\n",
            "| 5  | FOTO: Rudal-Drone Iran Mejeng Saat Konflik Timteng... |                                         Jakarta, CNN Indonesia                                          | teknologi |\n",
            "| 8  | FOTO: Mengintip Pabrik Pembuat Teknologi Anti-Dron... |                                         Jakarta, CNN Indonesia                                          | teknologi |\n",
            "| 9  | VIDEO: SpaceX Uji Terbang Starship Disaksikan Dona... | Jakarta, CNN Indonesia SpaceX kembali melakukan uji terbang Starship pada Selasa (19/11). Roket yang... | teknologi |\n",
            "| 31 | FOTO: Meta 'Bangkitkan' Patung-patung di Museum Me... |                                         Jakarta, CNN Indonesia                                          | teknologi |\n",
            "| 33 | FOTO: Potret Bunga Lili yang Punah Kini Terlahir K... |                                         Jakarta, CNN Indonesia                                          | teknologi |\n",
            "+----+-------------------------------------------------------+---------------------------------------------------------------------------------------------------------+-----------+\n",
            "\n",
            "Dataset After Removing Unwanted Rows:\n",
            "\n",
            "+---+-------------------------------------------------------+---------------------------------------------------------------------------------------------------------+-----------+\n",
            "|   |                         title                         |                                                 content                                                 |   label   |\n",
            "+---+-------------------------------------------------------+---------------------------------------------------------------------------------------------------------+-----------+\n",
            "| 0 | AS Paksa Google Jual Chrome hingga Lepas Android, ... | Jakarta, CNN Indonesia Departemen Kehakiman AS (DOJ) dilaporkan tengah menyiapkan langkah hukum untu... | teknologi |\n",
            "| 1 | Apple Mau Tambah Investasi Rp1,5 Triliun Demi Jual... | Jakarta, CNN Indonesia Appledikabarkan meningkatkan penawarannya untuk berinvestasi di Indonesia hin... | teknologi |\n",
            "| 2 | Aturan Pajak Karbon, RI Berpotensi Kehilangan Pasa... | Baku, CNN Indonesia Pengusaha besi-baja dan amonia asal Indonesia berpotensi kehilangan pendapatan d... | teknologi |\n",
            "| 3 | Google Garap Fitur Email Sementara Gmail, Cek Tuju... | Jakarta, CNN Indonesia Googledikabarkan tengah menguji coba fitur email sementara di platformGmailun... | teknologi |\n",
            "| 4 | Lenovo Rilis Yoga Slim 7i Aura Edition Gen 9, Cek ... | Jakarta, CNN Indonesia Lenovomemberikan penyegaran untuk laptop Yoga Slim 7i (Gen 9) dengan menghadi... | teknologi |\n",
            "+---+-------------------------------------------------------+---------------------------------------------------------------------------------------------------------+-----------+\n"
          ]
        }
      ]
    },
    {
      "cell_type": "markdown",
      "source": [
        "3. Menghapus Baris Pertama Berita"
      ],
      "metadata": {
        "id": "vDVN-LHGMbaL"
      }
    },
    {
      "cell_type": "code",
      "source": [
        "# Fungsi untuk menghapus kalimat pertama dalam paragraf\n",
        "def remove_first_sentence(paragraph):\n",
        "    if isinstance(paragraph, str):\n",
        "        sentences = paragraph.split('. ')\n",
        "        if len(sentences) > 1:\n",
        "            return '. '.join(sentences[1:])  # Menggabungkan kalimat setelah kalimat pertama\n",
        "        else:\n",
        "            return \"\"  # Jika hanya ada satu kalimat, return string kosong\n",
        "    return paragraph\n",
        "\n",
        "# Menampilkan 5 data sebelum perubahan\n",
        "df_display = df_step_2.head(5).copy()\n",
        "df_display['title'] = df_display['title'].apply(lambda x: truncate_text(x, max_length=50))\n",
        "df_display['content'] = df_display['content'].apply(lambda x: truncate_text(x, max_length=100))\n",
        "\n",
        "print(\"Before Removing First Sentence:\")\n",
        "print(tabulate(df_display, headers=\"keys\", tablefmt=\"pretty\"))\n",
        "\n",
        "# Hapus kalimat pertama di kolom 'content'\n",
        "df_step_3 = df_step_2.copy()\n",
        "df_step_3['content'] = df_step_3['content'].apply(remove_first_sentence)\n",
        "\n",
        "# Tampilkan 5 data setelah penghapusan kalimat pertama\n",
        "df_display = df_step_3.head(5).copy()\n",
        "df_display['title'] = df_display['title'].apply(lambda x: truncate_text(x, max_length=50))\n",
        "df_display['content'] = df_display['content'].apply(lambda x: truncate_text(x, max_length=100))\n",
        "\n",
        "print(\"\\nAfter Removing First Sentence:\")\n",
        "print(tabulate(df_display, headers=\"keys\", tablefmt=\"pretty\"))\n",
        "\n"
      ],
      "metadata": {
        "colab": {
          "base_uri": "https://localhost:8080/"
        },
        "id": "QxUOGjoOMOA_",
        "outputId": "06fa50ee-d4d6-4835-835b-da16b1f0655d"
      },
      "execution_count": null,
      "outputs": [
        {
          "output_type": "stream",
          "name": "stdout",
          "text": [
            "Before Removing First Sentence:\n",
            "+---+-------------------------------------------------------+---------------------------------------------------------------------------------------------------------+-----------+\n",
            "|   |                         title                         |                                                 content                                                 |   label   |\n",
            "+---+-------------------------------------------------------+---------------------------------------------------------------------------------------------------------+-----------+\n",
            "| 0 | AS Paksa Google Jual Chrome hingga Lepas Android, ... | Jakarta, CNN Indonesia Departemen Kehakiman AS (DOJ) dilaporkan tengah menyiapkan langkah hukum untu... | teknologi |\n",
            "| 1 | Apple Mau Tambah Investasi Rp1,5 Triliun Demi Jual... | Jakarta, CNN Indonesia Appledikabarkan meningkatkan penawarannya untuk berinvestasi di Indonesia hin... | teknologi |\n",
            "| 2 | Aturan Pajak Karbon, RI Berpotensi Kehilangan Pasa... | Baku, CNN Indonesia Pengusaha besi-baja dan amonia asal Indonesia berpotensi kehilangan pendapatan d... | teknologi |\n",
            "| 3 | Google Garap Fitur Email Sementara Gmail, Cek Tuju... | Jakarta, CNN Indonesia Googledikabarkan tengah menguji coba fitur email sementara di platformGmailun... | teknologi |\n",
            "| 4 | Lenovo Rilis Yoga Slim 7i Aura Edition Gen 9, Cek ... | Jakarta, CNN Indonesia Lenovomemberikan penyegaran untuk laptop Yoga Slim 7i (Gen 9) dengan menghadi... | teknologi |\n",
            "+---+-------------------------------------------------------+---------------------------------------------------------------------------------------------------------+-----------+\n",
            "\n",
            "After Removing First Sentence:\n",
            "+---+-------------------------------------------------------+---------------------------------------------------------------------------------------------------------+-----------+\n",
            "|   |                         title                         |                                                 content                                                 |   label   |\n",
            "+---+-------------------------------------------------------+---------------------------------------------------------------------------------------------------------+-----------+\n",
            "| 0 | AS Paksa Google Jual Chrome hingga Lepas Android, ... | Google Chrome Hal ini menyusul keputusan hakim yang menyatakan bahwa Google telah melakukan monopoli... | teknologi |\n",
            "| 1 | Apple Mau Tambah Investasi Rp1,5 Triliun Demi Jual... | Apple Investasi ini disebut sebagai upaya terbaru raksasa teknologi AS ini untuk membujuk pemerintah... | teknologi |\n",
            "| 2 | Aturan Pajak Karbon, RI Berpotensi Kehilangan Pasa... | pajak karbon CBAM adalah aturan yang dibuat Uni Eropa untuk mengantisipasi kebocoran emisi karbon. S... | teknologi |\n",
            "| 3 | Google Garap Fitur Email Sementara Gmail, Cek Tuju... | Google Gmail Saat ini hampir setiap layanan, aplikasi, dan situs web yang kita gunakan ingin kita me... | teknologi |\n",
            "| 4 | Lenovo Rilis Yoga Slim 7i Aura Edition Gen 9, Cek ... | Lenovo \"Kita punya Yoga Slim 7i Aura Edition. Jadi kita bisa lihat prosesornya ini sudah menggunakan... | teknologi |\n",
            "+---+-------------------------------------------------------+---------------------------------------------------------------------------------------------------------+-----------+\n"
          ]
        }
      ]
    },
    {
      "cell_type": "markdown",
      "source": [
        "4. Menghapus Iklan dalam Content"
      ],
      "metadata": {
        "id": "dxHtK_s3SIxJ"
      }
    },
    {
      "cell_type": "code",
      "source": [
        "# Menampilkan 5 data yang mengandung \"ADVERTISEMENT SCROLL TO CONTINUE WITH CONTENT\" sebelum penghapusan\n",
        "df_with_ads = df_step_3[df_step_3['content'].str.contains(\"ADVERTISEMENT SCROLL TO CONTINUE WITH CONTENT\", na=False)]\n",
        "df_display_before = df_with_ads.head(5).copy()  # Membatasi hanya 5 baris pertama\n",
        "df_display_before['content'] = df_display_before['content'].apply(lambda x: x[:150] + \"...\" if len(x) > 150 else x)\n",
        "\n",
        "print(\"\\nContent Before Removing Advertisement:\")\n",
        "print(tabulate(df_display_before, headers=\"keys\", tablefmt=\"pretty\"))\n",
        "\n",
        "# Fungsi untuk menghapus teks iklan\n",
        "def remove_advertisement(text):\n",
        "    if isinstance(text, str):\n",
        "        return text.replace(\"ADVERTISEMENT SCROLL TO CONTINUE WITH CONTENT\", \"\").strip()\n",
        "    return text\n",
        "\n",
        "# Menghapus teks iklan di kolom 'content'\n",
        "df_step_4 = df_step_3.copy()\n",
        "df_step_4['content'] = df_step_4['content'].apply(remove_advertisement)\n",
        "\n",
        "# Menampilkan 5 data yang sama setelah penghapusan iklan\n",
        "df_display_after = df_step_4.loc[df_with_ads.head(5).index].copy()  # Membatasi hanya 5 baris pertama\n",
        "df_display_after['content'] = df_display_after['content'].apply(lambda x: x[:150] + \"...\" if len(x) > 150 else x)\n",
        "\n",
        "print(\"\\nContent After Removing Advertisement:\")\n",
        "print(tabulate(df_display_after, headers=\"keys\", tablefmt=\"pretty\"))\n"
      ],
      "metadata": {
        "colab": {
          "base_uri": "https://localhost:8080/"
        },
        "id": "o1S5wctcRwWW",
        "outputId": "973b8af2-2070-4344-b9c3-554013c7b4cc"
      },
      "execution_count": null,
      "outputs": [
        {
          "output_type": "stream",
          "name": "stdout",
          "text": [
            "\n",
            "Content Before Removing Advertisement:\n",
            "+---+----------------------------------------------------------------------+-----------------------------------------------------------------------------------------------------------------------------------------------------------+-----------+\n",
            "|   |                                title                                 |                                                                          content                                                                          |   label   |\n",
            "+---+----------------------------------------------------------------------+-----------------------------------------------------------------------------------------------------------------------------------------------------------+-----------+\n",
            "| 0 |   AS Paksa Google Jual Chrome hingga Lepas Android, Apa Sebabnya?    | Google Chrome Hal ini menyusul keputusan hakim yang menyatakan bahwa Google telah melakukan monopoli bisnis secara ilegal. Chrome, yang saat ini menja... | teknologi |\n",
            "| 1 |  Apple Mau Tambah Investasi Rp1,5 Triliun Demi Jual iPhone 16 di RI  | Apple Investasi ini disebut sebagai upaya terbaru raksasa teknologi AS ini untuk membujuk pemerintah mencabut larangan penjualaniPhone 16. iPhone 16 M... | teknologi |\n",
            "| 2 | Aturan Pajak Karbon, RI Berpotensi Kehilangan Pasar Ekspor Besi-Baja | pajak karbon CBAM adalah aturan yang dibuat Uni Eropa untuk mengantisipasi kebocoran emisi karbon. Secara umum, aturan tersebut mengatur agar perusaha... | teknologi |\n",
            "| 3 |       Google Garap Fitur Email Sementara Gmail, Cek Tujuannya        | Google Gmail Saat ini hampir setiap layanan, aplikasi, dan situs web yang kita gunakan ingin kita membuat akun di platform mereka.  ADVERTISEMENT SCRO... | teknologi |\n",
            "| 4 | Lenovo Rilis Yoga Slim 7i Aura Edition Gen 9, Cek Spek dan Harganya  | Lenovo \"Kita punya Yoga Slim 7i Aura Edition. Jadi kita bisa lihat prosesornya ini sudah menggunakan Intel Core Ultra Gen 2 yangnickname-nya Lunar Lak... | teknologi |\n",
            "+---+----------------------------------------------------------------------+-----------------------------------------------------------------------------------------------------------------------------------------------------------+-----------+\n",
            "\n",
            "Content After Removing Advertisement:\n",
            "+---+----------------------------------------------------------------------+-----------------------------------------------------------------------------------------------------------------------------------------------------------+-----------+\n",
            "|   |                                title                                 |                                                                          content                                                                          |   label   |\n",
            "+---+----------------------------------------------------------------------+-----------------------------------------------------------------------------------------------------------------------------------------------------------+-----------+\n",
            "| 0 |   AS Paksa Google Jual Chrome hingga Lepas Android, Apa Sebabnya?    | Google Chrome Hal ini menyusul keputusan hakim yang menyatakan bahwa Google telah melakukan monopoli bisnis secara ilegal. Chrome, yang saat ini menja... | teknologi |\n",
            "| 1 |  Apple Mau Tambah Investasi Rp1,5 Triliun Demi Jual iPhone 16 di RI  | Apple Investasi ini disebut sebagai upaya terbaru raksasa teknologi AS ini untuk membujuk pemerintah mencabut larangan penjualaniPhone 16. iPhone 16 M... | teknologi |\n",
            "| 2 | Aturan Pajak Karbon, RI Berpotensi Kehilangan Pasar Ekspor Besi-Baja | pajak karbon CBAM adalah aturan yang dibuat Uni Eropa untuk mengantisipasi kebocoran emisi karbon. Secara umum, aturan tersebut mengatur agar perusaha... | teknologi |\n",
            "| 3 |       Google Garap Fitur Email Sementara Gmail, Cek Tujuannya        | Google Gmail Saat ini hampir setiap layanan, aplikasi, dan situs web yang kita gunakan ingin kita membuat akun di platform mereka.   Gmail telah mempu... | teknologi |\n",
            "| 4 | Lenovo Rilis Yoga Slim 7i Aura Edition Gen 9, Cek Spek dan Harganya  | Lenovo \"Kita punya Yoga Slim 7i Aura Edition. Jadi kita bisa lihat prosesornya ini sudah menggunakan Intel Core Ultra Gen 2 yangnickname-nya Lunar Lak... | teknologi |\n",
            "+---+----------------------------------------------------------------------+-----------------------------------------------------------------------------------------------------------------------------------------------------------+-----------+\n"
          ]
        }
      ]
    },
    {
      "cell_type": "markdown",
      "source": [
        "5. Menghilangkan Noise di Akhir Content"
      ],
      "metadata": {
        "id": "FpAqX3aMTuOp"
      }
    },
    {
      "cell_type": "code",
      "source": [
        "import re\n",
        "from tabulate import tabulate\n",
        "\n",
        "# Fungsi untuk mengekstrak kalimat terakhir\n",
        "def extract_last_sentence(text):\n",
        "    if isinstance(text, str):\n",
        "        sentences = re.split(r'(?<=\\.)\\s', text.strip())  # Memisahkan kalimat berdasarkan titik\n",
        "        if sentences:\n",
        "            return sentences[-1]  # Mengembalikan kalimat terakhir\n",
        "    return text  # Jika bukan string, kembalikan teks asli\n",
        "\n",
        "# Fungsi untuk menghapus noise setelah kalimat terakhir\n",
        "def remove_noise_after_last_sentence(paragraph):\n",
        "    if isinstance(paragraph, str):\n",
        "        # Mencari posisi titik terakhir\n",
        "        last_period_index = paragraph.rfind('.')\n",
        "\n",
        "        if last_period_index != -1:\n",
        "            # Mengambil hanya kalimat sebelum titik terakhir\n",
        "            cleaned_paragraph = paragraph[:last_period_index + 1]\n",
        "\n",
        "            # Menghapus noise dalam tanda kurung atau simbol lainnya setelah titik terakhir\n",
        "            cleaned_paragraph = re.sub(r'\\[.*?\\]|\\(.*?\\)', '', cleaned_paragraph)\n",
        "\n",
        "            return cleaned_paragraph.strip()  # Menghapus spasi tambahan\n",
        "        else:\n",
        "            return paragraph.strip()  # Jika tidak ada titik, return teks asli\n",
        "    return paragraph\n",
        "\n",
        "# Menampilkan 5 data yang mengandung noise di akhir\n",
        "df_with_noise = df_step_4[df_step_4['content'].str.contains(r'\\[.*?\\]|\\(.*?\\)', na=False)].head(5)\n",
        "df_display_before_noise = df_with_noise.copy()\n",
        "\n",
        "# Menampilkan kalimat terakhir sebelum menghapus noise\n",
        "df_display_before_noise['last_sentence_before'] = df_display_before_noise['content'].apply(extract_last_sentence)\n",
        "\n",
        "# Menampilkan data sebelum penghapusan noise\n",
        "print(\"\\nContent Before Removing Noise:\")\n",
        "print(tabulate(df_display_before_noise[['last_sentence_before']], headers=\"keys\", tablefmt=\"pretty\"))\n",
        "\n",
        "# Menghapus noise setelah kalimat terakhir di kolom 'content'\n",
        "df_step_5 = df_step_4.copy()\n",
        "df_step_5['content'] = df_step_5['content'].apply(remove_noise_after_last_sentence)\n",
        "\n",
        "# Menampilkan 5 data yang sama setelah penghapusan noise\n",
        "df_display_after_noise = df_step_5.loc[df_with_noise.index].copy()\n",
        "\n",
        "# Menampilkan kalimat terakhir setelah menghapus noise\n",
        "df_display_after_noise['last_sentence_after'] = df_display_after_noise['content'].apply(extract_last_sentence)\n",
        "\n",
        "# Menampilkan data setelah penghapusan noise\n",
        "print(\"\\nContent After Removing Noise:\")\n",
        "print(tabulate(df_display_after_noise[['last_sentence_after']], headers=\"keys\", tablefmt=\"pretty\"))\n"
      ],
      "metadata": {
        "colab": {
          "base_uri": "https://localhost:8080/"
        },
        "id": "X08k6KaBWVzS",
        "outputId": "ef57892e-eb8f-4a26-8edb-b9de8b60e04f"
      },
      "execution_count": null,
      "outputs": [
        {
          "output_type": "stream",
          "name": "stdout",
          "text": [
            "\n",
            "Content Before Removing Noise:\n",
            "+---+-----------------------------------------------------------------------------------------------------------------------------------------------------------------------------------------------------------------------------------------------------------------------------------+\n",
            "|   |                                                                                                                               last_sentence_before                                                                                                                                |\n",
            "+---+-----------------------------------------------------------------------------------------------------------------------------------------------------------------------------------------------------------------------------------------------------------------------------------+\n",
            "| 0 | DOJ mengatakan mereka \"mempertimbangkan solusi perilaku dan struktural yang akan mencegah Google menggunakan produk seperti Chrome, Play, dan Android untuk mendapatkan keuntungan dari pencarian Google serta produk dan fitur yang terkait dengan pencarian Google.\"  (wnu/dmi) |\n",
            "| 1 |                                                                                                                                     (tim/dmi)                                                                                                                                     |\n",
            "| 2 |                                                                                                                                     (dsf/dir)                                                                                                                                     |\n",
            "| 3 |                                                                                                                                     (lom/dmi)                                                                                                                                     |\n",
            "| 4 |                                                                                                                                     (lom/dmi)                                                                                                                                     |\n",
            "+---+-----------------------------------------------------------------------------------------------------------------------------------------------------------------------------------------------------------------------------------------------------------------------------------+\n",
            "\n",
            "Content After Removing Noise:\n",
            "+---+-----------------------------------------------------------------------------------------------------------------------------------------------------------------------------------------------------------------------------------------------------------------------+\n",
            "|   |                                                                                                                          last_sentence_after                                                                                                                          |\n",
            "+---+-----------------------------------------------------------------------------------------------------------------------------------------------------------------------------------------------------------------------------------------------------------------------+\n",
            "| 0 | DOJ mengatakan mereka \"mempertimbangkan solusi perilaku dan struktural yang akan mencegah Google menggunakan produk seperti Chrome, Play, dan Android untuk mendapatkan keuntungan dari pencarian Google serta produk dan fitur yang terkait dengan pencarian Google. |\n",
            "| 1 |                                                         \"Terlalu bodoh kalau Apple memilih tidak menambahkan investasi segitu dengan risiko iPhone 16 series tidak bisa masuk resmi ke Indonesia,\" imbuhnya.                                                          |\n",
            "| 2 |                                                         Laporan ini ditulis oleh Dewi Safitri yang meliput COP29 dari Baku, Azerbaijan dengan fellowship dari EJN dan Stanley Center for Peace and Security.                                                          |\n",
            "| 3 |                                                                                            Fitur yang diuji coba bisa jadi batal diluncurkan karena berbagai pertimbangan.                                                                                            |\n",
            "| 4 |                                                              IdeaPad Slim 5x dijual dengan harga Rp13,499 juta, sedangkan IdeaPad Slim 5x 2-in-1 dijual sedikit lebih mahal dengan harga Rp14,499 juta.                                                               |\n",
            "+---+-----------------------------------------------------------------------------------------------------------------------------------------------------------------------------------------------------------------------------------------------------------------------+\n"
          ]
        }
      ]
    },
    {
      "cell_type": "markdown",
      "source": [
        "6. Remove Punctuation"
      ],
      "metadata": {
        "id": "_FaykRf6Zm8a"
      }
    },
    {
      "cell_type": "code",
      "source": [
        "# Fungsi untuk menghapus tanda baca\n",
        "def remove_punctuation(text):\n",
        "    if isinstance(text, str):\n",
        "        return re.sub(r'[^\\w\\s]', '', text)  # Menghapus semua tanda baca (selain huruf dan angka)\n",
        "    return text\n",
        "\n",
        "# Menampilkan 5 data sebelum penghapusan tanda baca\n",
        "df_display_before = df_step_5.head(5).copy()  # Menggunakan df_step_5 untuk melanjutkan dari data yang sudah dibersihkan\n",
        "df_display_before['title'] = df_display_before['title'].apply(lambda x: x[:50] + \"...\" if len(x) > 50 else x)\n",
        "df_display_before['content'] = df_display_before['content'].apply(lambda x: x[:100] + \"...\" if len(x) > 100 else x)\n",
        "\n",
        "print(\"\\nContent Before Removing Punctuation:\")\n",
        "print(tabulate(df_display_before[['title', 'content', 'label']], headers=\"keys\", tablefmt=\"pretty\"))\n",
        "\n",
        "# Menghapus tanda baca di kolom 'title' dan 'content'\n",
        "df_step_6 = df_step_5.copy()\n",
        "df_step_6['title'] = df_step_6['title'].apply(remove_punctuation)\n",
        "df_step_6['content'] = df_step_6['content'].apply(remove_punctuation)\n",
        "\n",
        "# Menampilkan 5 data setelah penghapusan tanda baca\n",
        "df_display_after = df_step_6.head(5).copy()  # Membatasi hanya 5 data pertama setelah perubahan\n",
        "df_display_after['title'] = df_display_after['title'].apply(lambda x: x[:50] + \"...\" if len(x) > 50 else x)\n",
        "df_display_after['content'] = df_display_after['content'].apply(lambda x: x[:100] + \"...\" if len(x) > 100 else x)\n",
        "\n",
        "print(\"\\nContent After Removing Punctuation:\")\n",
        "print(tabulate(df_display_after[['title', 'content', 'label']], headers=\"keys\", tablefmt=\"pretty\"))"
      ],
      "metadata": {
        "colab": {
          "base_uri": "https://localhost:8080/"
        },
        "id": "qEMTjWj1ZlqG",
        "outputId": "05153a81-4155-4f50-cd04-40338ee8fa40"
      },
      "execution_count": null,
      "outputs": [
        {
          "output_type": "stream",
          "name": "stdout",
          "text": [
            "\n",
            "Content Before Removing Punctuation:\n",
            "+---+-------------------------------------------------------+---------------------------------------------------------------------------------------------------------+-----------+\n",
            "|   |                         title                         |                                                 content                                                 |   label   |\n",
            "+---+-------------------------------------------------------+---------------------------------------------------------------------------------------------------------+-----------+\n",
            "| 0 | AS Paksa Google Jual Chrome hingga Lepas Android, ... | Google Chrome Hal ini menyusul keputusan hakim yang menyatakan bahwa Google telah melakukan monopoli... | teknologi |\n",
            "| 1 | Apple Mau Tambah Investasi Rp1,5 Triliun Demi Jual... | Apple Investasi ini disebut sebagai upaya terbaru raksasa teknologi AS ini untuk membujuk pemerintah... | teknologi |\n",
            "| 2 | Aturan Pajak Karbon, RI Berpotensi Kehilangan Pasa... | pajak karbon CBAM adalah aturan yang dibuat Uni Eropa untuk mengantisipasi kebocoran emisi karbon. S... | teknologi |\n",
            "| 3 | Google Garap Fitur Email Sementara Gmail, Cek Tuju... | Google Gmail Saat ini hampir setiap layanan, aplikasi, dan situs web yang kita gunakan ingin kita me... | teknologi |\n",
            "| 4 | Lenovo Rilis Yoga Slim 7i Aura Edition Gen 9, Cek ... | Lenovo \"Kita punya Yoga Slim 7i Aura Edition. Jadi kita bisa lihat prosesornya ini sudah menggunakan... | teknologi |\n",
            "+---+-------------------------------------------------------+---------------------------------------------------------------------------------------------------------+-----------+\n",
            "\n",
            "Content After Removing Punctuation:\n",
            "+---+-------------------------------------------------------+---------------------------------------------------------------------------------------------------------+-----------+\n",
            "|   |                         title                         |                                                 content                                                 |   label   |\n",
            "+---+-------------------------------------------------------+---------------------------------------------------------------------------------------------------------+-----------+\n",
            "| 0 | AS Paksa Google Jual Chrome hingga Lepas Android A... | Google Chrome Hal ini menyusul keputusan hakim yang menyatakan bahwa Google telah melakukan monopoli... | teknologi |\n",
            "| 1 | Apple Mau Tambah Investasi Rp15 Triliun Demi Jual ... | Apple Investasi ini disebut sebagai upaya terbaru raksasa teknologi AS ini untuk membujuk pemerintah... | teknologi |\n",
            "| 2 | Aturan Pajak Karbon RI Berpotensi Kehilangan Pasar... | pajak karbon CBAM adalah aturan yang dibuat Uni Eropa untuk mengantisipasi kebocoran emisi karbon Se... | teknologi |\n",
            "| 3 | Google Garap Fitur Email Sementara Gmail Cek Tujua... | Google Gmail Saat ini hampir setiap layanan aplikasi dan situs web yang kita gunakan ingin kita memb... | teknologi |\n",
            "| 4 | Lenovo Rilis Yoga Slim 7i Aura Edition Gen 9 Cek S... | Lenovo Kita punya Yoga Slim 7i Aura Edition Jadi kita bisa lihat prosesornya ini sudah menggunakan I... | teknologi |\n",
            "+---+-------------------------------------------------------+---------------------------------------------------------------------------------------------------------+-----------+\n"
          ]
        }
      ]
    },
    {
      "cell_type": "markdown",
      "source": [
        "7. Cleaning Text"
      ],
      "metadata": {
        "id": "UErr0DusbE7i"
      }
    },
    {
      "cell_type": "code",
      "source": [
        "import re\n",
        "\n",
        "# Fungsi untuk membersihkan teks\n",
        "def clean_text(text):\n",
        "    if isinstance(text, str):\n",
        "        # Hapus mention (@username)\n",
        "        text = re.sub(r'@[A-Za-z0-9_]+', '', text)\n",
        "\n",
        "        # Hapus URL (http, https, www)\n",
        "        text = re.sub(r'http\\S+|www\\S+|https\\S+', '', text)\n",
        "\n",
        "        # Hapus hashtag (#hashtag)\n",
        "        text = re.sub(r'#\\S+', '', text)\n",
        "\n",
        "        # Hapus newline (\\n) dan menggantinya dengan spasi\n",
        "        text = re.sub(r'\\n', ' ', text)\n",
        "\n",
        "        # Hapus angka\n",
        "        text = re.sub(r'\\d+', '', text)\n",
        "\n",
        "        # Hapus emoji dan karakter non-ASCII\n",
        "        text = text.encode('ascii', 'ignore').decode('ascii')\n",
        "\n",
        "    return text\n",
        "\n",
        "# Menampilkan data sebelum cleaning\n",
        "df_display_before = df_step_6.head(5).copy()  # Membatasi hanya 5 data pertama\n",
        "df_display_before['title'] = df_display_before['title'].apply(lambda x: x[:50] + \"...\" if len(x) > 50 else x)\n",
        "df_display_before['content'] = df_display_before['content'].apply(lambda x: x[:100] + \"...\" if len(x) > 100 else x)\n",
        "\n",
        "print(\"\\nContent Before Cleaning:\")\n",
        "print(tabulate(df_display_before[['title', 'content', 'label']], headers=\"keys\", tablefmt=\"pretty\"))\n",
        "\n",
        "# Mengaplikasikan fungsi clean_text ke kolom 'title' dan 'content'\n",
        "df_step_7 = df_step_6.copy()\n",
        "df_step_7['title'] = df_step_7['title'].apply(clean_text)\n",
        "df_step_7['content'] = df_step_7['content'].apply(clean_text)\n",
        "\n",
        "# Menampilkan data setelah cleaning\n",
        "df_display_after = df_step_7.head(5).copy()  # Membatasi hanya 5 data pertama\n",
        "df_display_after['title'] = df_display_after['title'].apply(lambda x: x[:50] + \"...\" if len(x) > 50 else x)\n",
        "df_display_after['content'] = df_display_after['content'].apply(lambda x: x[:100] + \"...\" if len(x) > 100 else x)\n",
        "\n",
        "print(\"\\nContent After Cleaning:\")\n",
        "print(tabulate(df_display_after[['title', 'content', 'label']], headers=\"keys\", tablefmt=\"pretty\"))"
      ],
      "metadata": {
        "colab": {
          "base_uri": "https://localhost:8080/"
        },
        "id": "pVlg6ruibAVp",
        "outputId": "f7c3134f-ea09-4013-ccc1-96769b967671"
      },
      "execution_count": null,
      "outputs": [
        {
          "output_type": "stream",
          "name": "stdout",
          "text": [
            "\n",
            "Content Before Cleaning:\n",
            "+---+-------------------------------------------------------+---------------------------------------------------------------------------------------------------------+-----------+\n",
            "|   |                         title                         |                                                 content                                                 |   label   |\n",
            "+---+-------------------------------------------------------+---------------------------------------------------------------------------------------------------------+-----------+\n",
            "| 0 | AS Paksa Google Jual Chrome hingga Lepas Android A... | Google Chrome Hal ini menyusul keputusan hakim yang menyatakan bahwa Google telah melakukan monopoli... | teknologi |\n",
            "| 1 | Apple Mau Tambah Investasi Rp15 Triliun Demi Jual ... | Apple Investasi ini disebut sebagai upaya terbaru raksasa teknologi AS ini untuk membujuk pemerintah... | teknologi |\n",
            "| 2 | Aturan Pajak Karbon RI Berpotensi Kehilangan Pasar... | pajak karbon CBAM adalah aturan yang dibuat Uni Eropa untuk mengantisipasi kebocoran emisi karbon Se... | teknologi |\n",
            "| 3 | Google Garap Fitur Email Sementara Gmail Cek Tujua... | Google Gmail Saat ini hampir setiap layanan aplikasi dan situs web yang kita gunakan ingin kita memb... | teknologi |\n",
            "| 4 | Lenovo Rilis Yoga Slim 7i Aura Edition Gen 9 Cek S... | Lenovo Kita punya Yoga Slim 7i Aura Edition Jadi kita bisa lihat prosesornya ini sudah menggunakan I... | teknologi |\n",
            "+---+-------------------------------------------------------+---------------------------------------------------------------------------------------------------------+-----------+\n",
            "\n",
            "Content After Cleaning:\n",
            "+---+-------------------------------------------------------+---------------------------------------------------------------------------------------------------------+-----------+\n",
            "|   |                         title                         |                                                 content                                                 |   label   |\n",
            "+---+-------------------------------------------------------+---------------------------------------------------------------------------------------------------------+-----------+\n",
            "| 0 | AS Paksa Google Jual Chrome hingga Lepas Android A... | Google Chrome Hal ini menyusul keputusan hakim yang menyatakan bahwa Google telah melakukan monopoli... | teknologi |\n",
            "| 1 | Apple Mau Tambah Investasi Rp Triliun Demi Jual iP... | Apple Investasi ini disebut sebagai upaya terbaru raksasa teknologi AS ini untuk membujuk pemerintah... | teknologi |\n",
            "| 2 | Aturan Pajak Karbon RI Berpotensi Kehilangan Pasar... | pajak karbon CBAM adalah aturan yang dibuat Uni Eropa untuk mengantisipasi kebocoran emisi karbon Se... | teknologi |\n",
            "| 3 | Google Garap Fitur Email Sementara Gmail Cek Tujua... | Google Gmail Saat ini hampir setiap layanan aplikasi dan situs web yang kita gunakan ingin kita memb... | teknologi |\n",
            "| 4 | Lenovo Rilis Yoga Slim i Aura Edition Gen  Cek Spe... | Lenovo Kita punya Yoga Slim i Aura Edition Jadi kita bisa lihat prosesornya ini sudah menggunakan In... | teknologi |\n",
            "+---+-------------------------------------------------------+---------------------------------------------------------------------------------------------------------+-----------+\n"
          ]
        }
      ]
    },
    {
      "cell_type": "markdown",
      "source": [
        "8. Case Folding"
      ],
      "metadata": {
        "id": "XfQknGOGgJhA"
      }
    },
    {
      "cell_type": "code",
      "source": [
        "import pandas as pd\n",
        "from tabulate import tabulate\n",
        "\n",
        "# Fungsi untuk melakukan case folding (mengubah teks menjadi huruf kecil)\n",
        "def case_folding(text):\n",
        "    if isinstance(text, str):\n",
        "        return text.lower()  # Mengubah teks menjadi huruf kecil\n",
        "    return text\n",
        "\n",
        "# Menampilkan data sebelum case folding\n",
        "df_display_before = df_step_7.head(5).copy()\n",
        "df_display_before['title'] = df_display_before['title'].apply(lambda x: x[:50] + \"...\" if len(x) > 50 else x)\n",
        "df_display_before['content'] = df_display_before['content'].apply(lambda x: x[:100] + \"...\" if len(x) > 100 else x)\n",
        "\n",
        "print(\"\\nContent Before Case Folding:\")\n",
        "print(tabulate(df_display_before[['title', 'content', 'label']], headers=\"keys\", tablefmt=\"pretty\"))\n",
        "\n",
        "# Mengaplikasikan case folding ke kolom 'title' dan 'content'\n",
        "df_step_8 = df_step_7.copy()\n",
        "df_step_8['title'] = df_step_8['title'].apply(case_folding)\n",
        "df_step_8['content'] = df_step_8['content'].apply(case_folding)\n",
        "\n",
        "# Menampilkan data setelah case folding\n",
        "df_display_after_case_folding = df_step_8.head(5).copy()\n",
        "df_display_after_case_folding['title'] = df_display_after_case_folding['title'].apply(lambda x: x[:50] + \"...\" if len(x) > 50 else x)\n",
        "df_display_after_case_folding['content'] = df_display_after_case_folding['content'].apply(lambda x: x[:100] + \"...\" if len(x) > 100 else x)\n",
        "\n",
        "print(\"\\nContent After Case Folding:\")\n",
        "print(tabulate(df_display_after_case_folding[['title', 'content', 'label']], headers=\"keys\", tablefmt=\"pretty\"))"
      ],
      "metadata": {
        "colab": {
          "base_uri": "https://localhost:8080/"
        },
        "id": "Q58JAvYigMVm",
        "outputId": "9ba33022-decc-4c6f-cbde-c9af6657ce20"
      },
      "execution_count": null,
      "outputs": [
        {
          "output_type": "stream",
          "name": "stdout",
          "text": [
            "\n",
            "Content Before Case Folding:\n",
            "+---+-------------------------------------------------------+---------------------------------------------------------------------------------------------------------+-----------+\n",
            "|   |                         title                         |                                                 content                                                 |   label   |\n",
            "+---+-------------------------------------------------------+---------------------------------------------------------------------------------------------------------+-----------+\n",
            "| 0 | AS Paksa Google Jual Chrome hingga Lepas Android A... | Google Chrome Hal ini menyusul keputusan hakim yang menyatakan bahwa Google telah melakukan monopoli... | teknologi |\n",
            "| 1 | Apple Mau Tambah Investasi Rp Triliun Demi Jual iP... | Apple Investasi ini disebut sebagai upaya terbaru raksasa teknologi AS ini untuk membujuk pemerintah... | teknologi |\n",
            "| 2 | Aturan Pajak Karbon RI Berpotensi Kehilangan Pasar... | pajak karbon CBAM adalah aturan yang dibuat Uni Eropa untuk mengantisipasi kebocoran emisi karbon Se... | teknologi |\n",
            "| 3 | Google Garap Fitur Email Sementara Gmail Cek Tujua... | Google Gmail Saat ini hampir setiap layanan aplikasi dan situs web yang kita gunakan ingin kita memb... | teknologi |\n",
            "| 4 | Lenovo Rilis Yoga Slim i Aura Edition Gen  Cek Spe... | Lenovo Kita punya Yoga Slim i Aura Edition Jadi kita bisa lihat prosesornya ini sudah menggunakan In... | teknologi |\n",
            "+---+-------------------------------------------------------+---------------------------------------------------------------------------------------------------------+-----------+\n",
            "\n",
            "Content After Case Folding:\n",
            "+---+-------------------------------------------------------+---------------------------------------------------------------------------------------------------------+-----------+\n",
            "|   |                         title                         |                                                 content                                                 |   label   |\n",
            "+---+-------------------------------------------------------+---------------------------------------------------------------------------------------------------------+-----------+\n",
            "| 0 | as paksa google jual chrome hingga lepas android a... | google chrome hal ini menyusul keputusan hakim yang menyatakan bahwa google telah melakukan monopoli... | teknologi |\n",
            "| 1 | apple mau tambah investasi rp triliun demi jual ip... | apple investasi ini disebut sebagai upaya terbaru raksasa teknologi as ini untuk membujuk pemerintah... | teknologi |\n",
            "| 2 | aturan pajak karbon ri berpotensi kehilangan pasar... | pajak karbon cbam adalah aturan yang dibuat uni eropa untuk mengantisipasi kebocoran emisi karbon se... | teknologi |\n",
            "| 3 | google garap fitur email sementara gmail cek tujua... | google gmail saat ini hampir setiap layanan aplikasi dan situs web yang kita gunakan ingin kita memb... | teknologi |\n",
            "| 4 | lenovo rilis yoga slim i aura edition gen  cek spe... | lenovo kita punya yoga slim i aura edition jadi kita bisa lihat prosesornya ini sudah menggunakan in... | teknologi |\n",
            "+---+-------------------------------------------------------+---------------------------------------------------------------------------------------------------------+-----------+\n"
          ]
        }
      ]
    },
    {
      "cell_type": "markdown",
      "source": [
        "9. Remove Duplicate"
      ],
      "metadata": {
        "id": "ejlqu2ZZgbQL"
      }
    },
    {
      "cell_type": "code",
      "source": [
        "import pandas as pd\n",
        "from tabulate import tabulate\n",
        "\n",
        "# Menampilkan jumlah data sebelum menghapus duplikat\n",
        "total_data_before = len(df_step_8)\n",
        "\n",
        "# Menampilkan data yang duplikat berdasarkan 'title' atau 'content'\n",
        "duplicates = df_step_8[df_step_8.duplicated(subset=['title'], keep=False) | df_step_8.duplicated(subset=['content'], keep=False)]\n",
        "\n",
        "# Menampilkan hanya 5 data duplikat\n",
        "print(f\"\\nData Duplicates Before Removing:\")\n",
        "print(tabulate(duplicates[['title', 'content']].head(5), headers=\"keys\", tablefmt=\"pretty\"))\n",
        "\n",
        "# Menghapus duplikat berdasarkan 'title' atau 'content'\n",
        "df_step_9 = df_step_8.drop_duplicates(subset=['title', 'content'], keep='first')  # Keep first to keep the first occurrence\n",
        "\n",
        "# Menampilkan jumlah duplikat yang dihapus dan jumlah data yang tersisa\n",
        "duplicates_removed = len(df_step_8) - len(df_step_9)\n",
        "remaining_data = len(df_step_9)\n",
        "\n",
        "print(f\"\\nNumber of Duplicates Removed: {duplicates_removed}\")\n",
        "print(f\"Remaining Data after Removing Duplicates: {remaining_data}\")\n",
        "\n",
        "# Menampilkan data setelah penghapusan duplikat\n",
        "df_display_after_duplicates = df_step_9.head(5).copy()  # Membatasi hanya 5 data pertama\n",
        "df_display_after_duplicates['title'] = df_display_after_duplicates['title'].apply(lambda x: x[:50] + \"...\" if len(x) > 50 else x)\n",
        "df_display_after_duplicates['content'] = df_display_after_duplicates['content'].apply(lambda x: x[:100] + \"...\" if len(x) > 100 else x)\n",
        "\n",
        "print(\"\\nContent After Removing Duplicates:\")\n",
        "print(tabulate(df_display_after_duplicates[['title', 'content', 'label']], headers=\"keys\", tablefmt=\"pretty\"))"
      ],
      "metadata": {
        "colab": {
          "base_uri": "https://localhost:8080/"
        },
        "id": "Tn2TyPAwgfpK",
        "outputId": "46b7d9c3-1380-4bdd-fa9c-61aba756e5e5"
      },
      "execution_count": null,
      "outputs": [
        {
          "output_type": "stream",
          "name": "stdout",
          "text": [
            "\n",
            "Data Duplicates Before Removing:\n",
            "+------+--------------------------------------------------------------------+-------------------------------------------------------------------------------------------------------------------------------------------------------------------------------------------------------------------------------------------------------------------------------------------------------------------------------------------------------------------------------------------------------------------------------------------------------------------------------------------------------------------------------------------------------------------------------------------------------------------------------------------------------------------------------------------------------------------------------------------------------------------------------------------------------------------------------------------------------------------------------------------------------------------------------------------------------------------------------------------------------------------------------------------------------------------------------------------------------------------------------------------------------------------------------------------------------------------------------------------------------------------------------------------------------------------------------------------------------------------------------------------------------------------------------------------------------------------------------------------------------------------------------------------------------------------------------------------------------------------------------------------------------------------------------------------------------------------------------------------------------------------------------------------------------------------------------------------------------------------------------------------------------------------------------------------------------------------------------------------------------------------------------------------------------------------------------------------------------------------------------------------------------------------------------------------------------------------------------------------------------------------------------------------------------------------------------------------------------------------------------------------------------------------------------------------------------------------------------------------------------------------------------------------------------------------------------------------------------------------------------------------------------------------------------------------------------------------------------------------------------------------------------------------------------------------------------------------------------------------------------------------------------------------------------------------------------------------------------------------------------------------------------------------------------------------------------------------------------------------------------------------------------------------------------------------------------------------------------------------------------------------------------------------------------------------------------------------------------------------------------------------------------------------------------------------------------------------------------------------------------------------------------------------------------------------------------------------------------------------------------------------------------------------------------------------------------------------------------------------------------------------------------------------------------------------------------------------------------------------------------------------------------------------------------------------------------------------+\n",
            "|      |                               title                                |                                                                                                                                                                                                                                                                                                                                                                                                                                                                                                                                                                                                                                                                                                                                                                                                                                                                                                                                                                                                                                                                                                                                                                                                                                                                                                                                                                                                                                                                                                                                                                                                                                                                                                                                                                                                                                                                                                                                                                              content                                                                                                                                                                                                                                                                                                                                                                                                                                                                                                                                                                                                                                                                                                                                                                                                                                                                                                                                                                                                                                                                                                                                                                                                                                                                                                                                                                                                                                                                                                                                                                                                                                                                                                                                                                                                                                                                                                                                                                              |\n",
            "+------+--------------------------------------------------------------------+-------------------------------------------------------------------------------------------------------------------------------------------------------------------------------------------------------------------------------------------------------------------------------------------------------------------------------------------------------------------------------------------------------------------------------------------------------------------------------------------------------------------------------------------------------------------------------------------------------------------------------------------------------------------------------------------------------------------------------------------------------------------------------------------------------------------------------------------------------------------------------------------------------------------------------------------------------------------------------------------------------------------------------------------------------------------------------------------------------------------------------------------------------------------------------------------------------------------------------------------------------------------------------------------------------------------------------------------------------------------------------------------------------------------------------------------------------------------------------------------------------------------------------------------------------------------------------------------------------------------------------------------------------------------------------------------------------------------------------------------------------------------------------------------------------------------------------------------------------------------------------------------------------------------------------------------------------------------------------------------------------------------------------------------------------------------------------------------------------------------------------------------------------------------------------------------------------------------------------------------------------------------------------------------------------------------------------------------------------------------------------------------------------------------------------------------------------------------------------------------------------------------------------------------------------------------------------------------------------------------------------------------------------------------------------------------------------------------------------------------------------------------------------------------------------------------------------------------------------------------------------------------------------------------------------------------------------------------------------------------------------------------------------------------------------------------------------------------------------------------------------------------------------------------------------------------------------------------------------------------------------------------------------------------------------------------------------------------------------------------------------------------------------------------------------------------------------------------------------------------------------------------------------------------------------------------------------------------------------------------------------------------------------------------------------------------------------------------------------------------------------------------------------------------------------------------------------------------------------------------------------------------------------------------------------------------------------------------+\n",
            "| 2331 |     infografis program  hari dan jangka panjang prabowogibran      |                                                                                                                                                                                                                                                                                                                                                                                                                                                                                                                                                                                                                                                                                                                                                                                                                                                                                                                                                                                                                                                                                                                                                                                                                                                                                                                                                                                                                                                                                                                                                                                                                                                                                                                                                                                                                                                                                                                                                                              agmfra                                                                                                                                                                                                                                                                                                                                                                                                                                                                                                                                                                                                                                                                                                                                                                                                                                                                                                                                                                                                                                                                                                                                                                                                                                                                                                                                                                                                                                                                                                                                                                                                                                                                                                                                                                                                                                                                                                                                                                               |\n",
            "| 6233 | kpk buka suara soal pn jaksel menangkan praperadilan sahbirin noor | kpk sahbirin noor sebab kpk mengatakan penetapan tersangka terhadap paman birin merupakan rangkaian dari operasi tangkap tangan  yang dilakukan kpk menyayangkan putusan praperadilan atas pemohon shb selaku gubernur kalimantan selatan di mana dalam perkara yang bermula dari kegiatan tangkap tangan tersebut kpk menetapkan tersangka pada tahap awal penyidikan dengan minimal dua alat bukti ujar juru bicara kpk tessa mahardhika sugiarto di kantornya jakarta selasa   menurut dia penetapan tersangka tersebut telah sesuai dengan ketentuan dalam undangundang nomor  tahun  tentang kpk tepatnya pada pasal   pasal tersebut membebankan penyelidik dan penyidik kpk untuk berhatihati dalam memproses seseorang menjadi tersangka yakni dengan bukti permulaan yang cukup untuk menaikkan status hukum seseorang pasal  bahwa pada penyelidikan dugaan tindak pidana korupsi salah satu tugas adalah untuk mengumpulkan bukti permulaan yang cukup yang selanjutnya untuk menetapkan pihakpihak yang bertanggung jawab sebagai tersangka di sisi lain pada kuhap penetapan tersangka dilakukan di tahap penyidikan ucap tessa namun perlu kita pahami juga bahwa pemberantasan korupsi yang dilakukan kpk adalah lex spesialis atau khusus ya sehingga sepatutnya hakim mempertimbangkan kewenangan lex spesialis yang dimiliki oleh kpk tersebut sambungnya terlepas dari itu tessa menyampaikan kpk tetap menghormati putusan pengadilan dan kpk akan mempelajari risalah putusan tersebut untuk dipertimbangkan apa langkahlangkah selanjutnya yang akan diambil kata tessa status tersangka paman birin dalam kasus dugaan suap dan penerimaan gratifikasi resmi gugur usai yang bersangkutan memenangkan praperadilan putusan dibacakan pada hari ini selasa   hakim menyatakan penetapan tersangka terhadap paman birin adalah tidak sah dan tidak memiliki kekuatan mengikat kata hakim paman birin tidak tertangkap tangan  sehingga harus dilakukan pemeriksaan terhadapnya terlebih dahulu sebelum menyematkan status tersangka sementara kata hakim penyidik kpk belum melakukan pemeriksaan terhadap paman birin hal itu diketahui dari tidak adanya bukti yang dibawa tim biro hukum kpk dalam sidang praperadilan paman birin juga belum dilakukan pemanggilan secara sah untuk diperiksa pemeriksaan sebagai calon tersangka tidak dilakukan oleh termohon  kata hakim hakim menepis dalil kpk yang menganggap pamanbirin tidak bisa mengajukan praperadilan karena tidak diketahui keberadaannya menurut hakim kesimpulan penyidik kpk yang mengatakan paman birin melarikan diri atau tidak diketahui keberadaannya adalah prematur hakim berlandaskan pada tidak adanya surat panggilan pemeriksaan maupun penetapan daftar pencarian orang  yang dikeluarkan oleh kpk berdasarkan dalil pemohon dan termohon beserta seluruh alat bukti ternyata tidak ada yang menunjukkan pihak termohon menerbitkan surat penetapan dpo ucap hakim  sebelumnya paman birin bersama enam orang lainnya ditetapkan kpk sebagai tersangka kasus dugaan penerimaan hadiah atau janji oleh penyelenggara negara atau yang mewakilinya di provinsi kalsel tahun  sebagai penerima yaitu paman birin kepala dinas pekerjaan umum dan penataan ruang  pemprov kalsel ahmad solhan  kabid cipta karya sekaligus pejabat pembuat komitmen  pemprov kalsel yulianti erlynah  pengurus rumah tahfidz darussalam sekaligus pengepul uang atau fee ahmad  dan plt kepala bagian rumah tangga gubernur kalsel agustya febry andrean  mereka disangkakan melanggar pasal  huruf a atau b atau pasal  danatau pasal  b undangundang pemberantasan tindak pidana korupsi  jo pasal  ayat  ke kuhp sedangkan sebagai pemberi ialah sugeng wahyudi  dan andi susanto  selaku pihak swasta sugeng dan andi disangkakan melanggar pasal  ayat  huruf a atau b atau pasal  uu tipikor jo pasal  ayat  ke kuhp keenam tersangka selain paman birin telah ditahan kpk |\n",
            "| 6242 | kpk buka suara soal pn jaksel menangkan praperadilan sahbirin noor | kpk sahbirin noor sebab kpk mengatakan penetapan tersangka terhadap paman birin merupakan rangkaian dari operasi tangkap tangan  yang dilakukan kpk menyayangkan putusan praperadilan atas pemohon shb selaku gubernur kalimantan selatan di mana dalam perkara yang bermula dari kegiatan tangkap tangan tersebut kpk menetapkan tersangka pada tahap awal penyidikan dengan minimal dua alat bukti ujar juru bicara kpk tessa mahardhika sugiarto di kantornya jakarta selasa   menurut dia penetapan tersangka tersebut telah sesuai dengan ketentuan dalam undangundang nomor  tahun  tentang kpk tepatnya pada pasal   pasal tersebut membebankan penyelidik dan penyidik kpk untuk berhatihati dalam memproses seseorang menjadi tersangka yakni dengan bukti permulaan yang cukup untuk menaikkan status hukum seseorang pasal  bahwa pada penyelidikan dugaan tindak pidana korupsi salah satu tugas adalah untuk mengumpulkan bukti permulaan yang cukup yang selanjutnya untuk menetapkan pihakpihak yang bertanggung jawab sebagai tersangka di sisi lain pada kuhap penetapan tersangka dilakukan di tahap penyidikan ucap tessa namun perlu kita pahami juga bahwa pemberantasan korupsi yang dilakukan kpk adalah lex spesialis atau khusus ya sehingga sepatutnya hakim mempertimbangkan kewenangan lex spesialis yang dimiliki oleh kpk tersebut sambungnya terlepas dari itu tessa menyampaikan kpk tetap menghormati putusan pengadilan dan kpk akan mempelajari risalah putusan tersebut untuk dipertimbangkan apa langkahlangkah selanjutnya yang akan diambil kata tessa status tersangka paman birin dalam kasus dugaan suap dan penerimaan gratifikasi resmi gugur usai yang bersangkutan memenangkan praperadilan putusan dibacakan pada hari ini selasa   hakim menyatakan penetapan tersangka terhadap paman birin adalah tidak sah dan tidak memiliki kekuatan mengikat kata hakim paman birin tidak tertangkap tangan  sehingga harus dilakukan pemeriksaan terhadapnya terlebih dahulu sebelum menyematkan status tersangka sementara kata hakim penyidik kpk belum melakukan pemeriksaan terhadap paman birin hal itu diketahui dari tidak adanya bukti yang dibawa tim biro hukum kpk dalam sidang praperadilan paman birin juga belum dilakukan pemanggilan secara sah untuk diperiksa pemeriksaan sebagai calon tersangka tidak dilakukan oleh termohon  kata hakim hakim menepis dalil kpk yang menganggap pamanbirin tidak bisa mengajukan praperadilan karena tidak diketahui keberadaannya menurut hakim kesimpulan penyidik kpk yang mengatakan paman birin melarikan diri atau tidak diketahui keberadaannya adalah prematur hakim berlandaskan pada tidak adanya surat panggilan pemeriksaan maupun penetapan daftar pencarian orang  yang dikeluarkan oleh kpk berdasarkan dalil pemohon dan termohon beserta seluruh alat bukti ternyata tidak ada yang menunjukkan pihak termohon menerbitkan surat penetapan dpo ucap hakim  sebelumnya paman birin bersama enam orang lainnya ditetapkan kpk sebagai tersangka kasus dugaan penerimaan hadiah atau janji oleh penyelenggara negara atau yang mewakilinya di provinsi kalsel tahun  sebagai penerima yaitu paman birin kepala dinas pekerjaan umum dan penataan ruang  pemprov kalsel ahmad solhan  kabid cipta karya sekaligus pejabat pembuat komitmen  pemprov kalsel yulianti erlynah  pengurus rumah tahfidz darussalam sekaligus pengepul uang atau fee ahmad  dan plt kepala bagian rumah tangga gubernur kalsel agustya febry andrean  mereka disangkakan melanggar pasal  huruf a atau b atau pasal  danatau pasal  b undangundang pemberantasan tindak pidana korupsi  jo pasal  ayat  ke kuhp sedangkan sebagai pemberi ialah sugeng wahyudi  dan andi susanto  selaku pihak swasta sugeng dan andi disangkakan melanggar pasal  ayat  huruf a atau b atau pasal  uu tipikor jo pasal  ayat  ke kuhp keenam tersangka selain paman birin telah ditahan kpk |\n",
            "| 6643 |       infografis uang rp miliar dan emas  kg eks pejabat ma        |                                                                                                                                                                                                                                                                                                                                                                                                                                                                                                                                                                                                                                                                                                                                                                                                                                                                                                                                                                                                                                                                                                                                                                                                                                                                                                                                                                                                                                                                                                                                                                                                                                                                                                                                                                                                                                                                                                                                                                              agmfra                                                                                                                                                                                                                                                                                                                                                                                                                                                                                                                                                                                                                                                                                                                                                                                                                                                                                                                                                                                                                                                                                                                                                                                                                                                                                                                                                                                                                                                                                                                                                                                                                                                                                                                                                                                                                                                                                                                                                                               |\n",
            "| 6803 | polisi periksa  saksi usut pertemuan alex marwata dan eko darmanto |                                                                                                                                                                                                                                                                                                                                                                                                                                                                                                                                                                                                                                                                                                                                                                                                                                                                                                                                                                                                                                                                                                                                                                                                                                                                                   polisi kpk sampai dengan saat ini tim penyelidik subdit tipidkor ditreskrimsus polda metro jaya telah melakukan klarifikasi terhadap  orang kata direktur reskrimsus polda metro jaya kombes ade safri simanjuntak kepada wartawan senin  eko sendiri telah dimintai keterangan lalu ada juga pegawai kpk itjen kementerian keuangan hingga direktur pendaftaran dan pemeriksaan lhkpn kpk isnaini  polisi telah menjadwalkan pemeriksaan terhadap deputi pencegahan dan monitoring kpk pahala nainggolan pahala semestinya dimintai keterangan pada jumat  namun dia berhalangan hadir dan pemeriksaan dijadwalkan kembali pada senin   penyelidik kembali telah mengirimkan surat undangan klarifikasi kepada pahala nainggolan deputi pencegahan dan monitoring kpk ucap ade safri sebelumnya polda metro jaya menerima pengaduan masyarakat  terhadap alex terkait pertemuan dengan pihak berperkara pada  maret  polisi kemudian melakukan proses verifikasi penelaahan pengumpulan bahan keterangan dan membuat laporan informasi  polisi juga telah menerbitkan surat perintah penyelidikan serta springas pada  april  dan telah diperbarui atau diperpanjang pada  september  selain laporan pidana alex juga dilaporkan atas dugaan pelanggaran kode etik dan pedoman perilaku ke dewan pengawas  kpk laporan dilayangkan oleh forum mahasiswa peduli hukum  pada jumat  september                                                                                                                                                                                                                                                                                                                                                                                                                                                                                                                                                                                                                                                                                                                                                                                                                                                                                                                                                                                                                                                                                                                                                                                                                                                                                    |\n",
            "+------+--------------------------------------------------------------------+-------------------------------------------------------------------------------------------------------------------------------------------------------------------------------------------------------------------------------------------------------------------------------------------------------------------------------------------------------------------------------------------------------------------------------------------------------------------------------------------------------------------------------------------------------------------------------------------------------------------------------------------------------------------------------------------------------------------------------------------------------------------------------------------------------------------------------------------------------------------------------------------------------------------------------------------------------------------------------------------------------------------------------------------------------------------------------------------------------------------------------------------------------------------------------------------------------------------------------------------------------------------------------------------------------------------------------------------------------------------------------------------------------------------------------------------------------------------------------------------------------------------------------------------------------------------------------------------------------------------------------------------------------------------------------------------------------------------------------------------------------------------------------------------------------------------------------------------------------------------------------------------------------------------------------------------------------------------------------------------------------------------------------------------------------------------------------------------------------------------------------------------------------------------------------------------------------------------------------------------------------------------------------------------------------------------------------------------------------------------------------------------------------------------------------------------------------------------------------------------------------------------------------------------------------------------------------------------------------------------------------------------------------------------------------------------------------------------------------------------------------------------------------------------------------------------------------------------------------------------------------------------------------------------------------------------------------------------------------------------------------------------------------------------------------------------------------------------------------------------------------------------------------------------------------------------------------------------------------------------------------------------------------------------------------------------------------------------------------------------------------------------------------------------------------------------------------------------------------------------------------------------------------------------------------------------------------------------------------------------------------------------------------------------------------------------------------------------------------------------------------------------------------------------------------------------------------------------------------------------------------------------------------------------------------------------------------------------+\n",
            "\n",
            "Number of Duplicates Removed: 3\n",
            "Remaining Data after Removing Duplicates: 11474\n",
            "\n",
            "Content After Removing Duplicates:\n",
            "+---+-------------------------------------------------------+---------------------------------------------------------------------------------------------------------+-----------+\n",
            "|   |                         title                         |                                                 content                                                 |   label   |\n",
            "+---+-------------------------------------------------------+---------------------------------------------------------------------------------------------------------+-----------+\n",
            "| 0 | as paksa google jual chrome hingga lepas android a... | google chrome hal ini menyusul keputusan hakim yang menyatakan bahwa google telah melakukan monopoli... | teknologi |\n",
            "| 1 | apple mau tambah investasi rp triliun demi jual ip... | apple investasi ini disebut sebagai upaya terbaru raksasa teknologi as ini untuk membujuk pemerintah... | teknologi |\n",
            "| 2 | aturan pajak karbon ri berpotensi kehilangan pasar... | pajak karbon cbam adalah aturan yang dibuat uni eropa untuk mengantisipasi kebocoran emisi karbon se... | teknologi |\n",
            "| 3 | google garap fitur email sementara gmail cek tujua... | google gmail saat ini hampir setiap layanan aplikasi dan situs web yang kita gunakan ingin kita memb... | teknologi |\n",
            "| 4 | lenovo rilis yoga slim i aura edition gen  cek spe... | lenovo kita punya yoga slim i aura edition jadi kita bisa lihat prosesornya ini sudah menggunakan in... | teknologi |\n",
            "+---+-------------------------------------------------------+---------------------------------------------------------------------------------------------------------+-----------+\n"
          ]
        }
      ]
    },
    {
      "cell_type": "markdown",
      "source": [
        "10. Stopword Removal"
      ],
      "metadata": {
        "id": "UV6hpemfyI9U"
      }
    },
    {
      "cell_type": "code",
      "source": [
        "from Sastrawi.StopWordRemover.StopWordRemoverFactory import StopWordRemoverFactory, StopWordRemover, ArrayDictionary\n",
        "from tabulate import tabulate\n",
        "\n",
        "# Fungsi untuk menghapus stopword\n",
        "def stopword_removal(text, stop_words_remover):\n",
        "    text = stop_words_remover.remove(text)\n",
        "    return text\n",
        "\n",
        "# Menampilkan 5 data pertama sebelum stopword untuk 'title' dan 'content'\n",
        "df_display_before = df_step_9.head(5).copy()\n",
        "df_display_before['title'] = df_display_before['title'].apply(lambda x: x[:50] + \"...\" if len(x) > 50 else x)\n",
        "df_display_before['content'] = df_display_before['content'].apply(lambda x: x[:100] + \"...\" if len(x) > 100 else x)\n",
        "\n",
        "print(\"Before Stopword Removal:\")\n",
        "print(tabulate(df_display_before[['title', 'content', 'label']], headers=\"keys\", tablefmt=\"pretty\"))\n",
        "\n",
        "# Mendapatkan daftar stopword dari Sastrawi dan menambah daftar stopword custom jika ada\n",
        "stopword_csv = pd.read_csv('/content/drive/MyDrive/DST/Copy of Salinan stopwordbahasa.csv', header=None)  # CSV stopword tambahan\n",
        "additional_stopwords = stopword_csv[0].tolist()  # Mengonversi kolom CSV ke list\n",
        "stop_words = StopWordRemoverFactory().get_stop_words()\n",
        "new_stop_words = stop_words + additional_stopwords  # Menggabungkan stopword Sastrawi dan stopword tambahan\n",
        "\n",
        "# Membuat ArrayDictionary untuk stopword\n",
        "stop_words_dictionary = ArrayDictionary(new_stop_words)\n",
        "stop_words_remover = StopWordRemover(stop_words_dictionary)\n",
        "\n",
        "# Menerapkan stopword removal ke kolom 'title' dan 'content' langsung\n",
        "df_step_9['title'] = df_step_9['title'].apply(lambda x: stopword_removal(str(x), stop_words_remover))\n",
        "df_step_9['content'] = df_step_9['content'].apply(lambda x: stopword_removal(str(x), stop_words_remover))\n",
        "\n",
        "# Menampilkan 5 data pertama setelah stopword untuk 'title' dan 'content'\n",
        "df_display_after_stopword = df_step_9.head(5).copy()\n",
        "df_display_after_stopword['title'] = df_display_after_stopword['title'].apply(lambda x: x[:50] + \"...\" if len(x) > 50 else x)\n",
        "df_display_after_stopword['content'] = df_display_after_stopword['content'].apply(lambda x: x[:100] + \"...\" if len(x) > 100 else x)\n",
        "\n",
        "print(\"\\nAfter Stopword Removal:\")\n",
        "print(tabulate(df_display_after_stopword[['title', 'content', 'label']], headers=\"keys\", tablefmt=\"pretty\"))\n"
      ],
      "metadata": {
        "colab": {
          "base_uri": "https://localhost:8080/"
        },
        "id": "5_R3fYFsyzPz",
        "outputId": "7e93cb3c-c55e-4c4d-8286-3b1ca5baa380"
      },
      "execution_count": null,
      "outputs": [
        {
          "output_type": "stream",
          "name": "stdout",
          "text": [
            "Before Stopword Removal:\n",
            "+---+-------------------------------------------------------+---------------------------------------------------------------------------------------------------------+-----------+\n",
            "|   |                         title                         |                                                 content                                                 |   label   |\n",
            "+---+-------------------------------------------------------+---------------------------------------------------------------------------------------------------------+-----------+\n",
            "| 0 | as paksa google jual chrome hingga lepas android a... | google chrome hal ini menyusul keputusan hakim yang menyatakan bahwa google telah melakukan monopoli... | teknologi |\n",
            "| 1 | apple mau tambah investasi rp triliun demi jual ip... | apple investasi ini disebut sebagai upaya terbaru raksasa teknologi as ini untuk membujuk pemerintah... | teknologi |\n",
            "| 2 | aturan pajak karbon ri berpotensi kehilangan pasar... | pajak karbon cbam adalah aturan yang dibuat uni eropa untuk mengantisipasi kebocoran emisi karbon se... | teknologi |\n",
            "| 3 | google garap fitur email sementara gmail cek tujua... | google gmail saat ini hampir setiap layanan aplikasi dan situs web yang kita gunakan ingin kita memb... | teknologi |\n",
            "| 4 | lenovo rilis yoga slim i aura edition gen  cek spe... | lenovo kita punya yoga slim i aura edition jadi kita bisa lihat prosesornya ini sudah menggunakan in... | teknologi |\n",
            "+---+-------------------------------------------------------+---------------------------------------------------------------------------------------------------------+-----------+\n"
          ]
        },
        {
          "output_type": "stream",
          "name": "stderr",
          "text": [
            "<ipython-input-146-9169ea1c12fc>:28: SettingWithCopyWarning: \n",
            "A value is trying to be set on a copy of a slice from a DataFrame.\n",
            "Try using .loc[row_indexer,col_indexer] = value instead\n",
            "\n",
            "See the caveats in the documentation: https://pandas.pydata.org/pandas-docs/stable/user_guide/indexing.html#returning-a-view-versus-a-copy\n",
            "  df_step_9['title'] = df_step_9['title'].apply(lambda x: stopword_removal(str(x), stop_words_remover))\n"
          ]
        },
        {
          "output_type": "stream",
          "name": "stdout",
          "text": [
            "\n",
            "After Stopword Removal:\n",
            "+---+-------------------------------------------------------+---------------------------------------------------------------------------------------------------------+-----------+\n",
            "|   |                         title                         |                                                 content                                                 |   label   |\n",
            "+---+-------------------------------------------------------+---------------------------------------------------------------------------------------------------------+-----------+\n",
            "| 0 |  as paksa google jual chrome lepas android sebabnya   | google chrome menyusul keputusan hakim menyatakan google melakukan monopoli bisnis ilegal chrome saa... | teknologi |\n",
            "| 1 |   apple tambah investasi rp triliun jual iphone  ri   | apple investasi upaya terbaru raksasa teknologi as membujuk pemerintah mencabut larangan penjualanip... | teknologi |\n",
            "| 2 | aturan pajak karbon ri berpotensi kehilangan pasar... | pajak karbon cbam aturan dibuat uni eropa mengantisipasi kebocoran emisi karbon umum aturan mengatur... | teknologi |\n",
            "| 3 |     google garap fitur email gmail cek tujuannya      | google gmail setiap layanan aplikasi situs web ingin membuat akun platform   gmail mempunyai mekanis... | teknologi |\n",
            "| 4 | lenovo rilis yoga slim i aura edition gen  cek spe... | lenovo punya yoga slim i aura edition kita lihat prosesornya intel core ultra gen  yangnicknamenya l... | teknologi |\n",
            "+---+-------------------------------------------------------+---------------------------------------------------------------------------------------------------------+-----------+\n"
          ]
        },
        {
          "output_type": "stream",
          "name": "stderr",
          "text": [
            "<ipython-input-146-9169ea1c12fc>:29: SettingWithCopyWarning: \n",
            "A value is trying to be set on a copy of a slice from a DataFrame.\n",
            "Try using .loc[row_indexer,col_indexer] = value instead\n",
            "\n",
            "See the caveats in the documentation: https://pandas.pydata.org/pandas-docs/stable/user_guide/indexing.html#returning-a-view-versus-a-copy\n",
            "  df_step_9['content'] = df_step_9['content'].apply(lambda x: stopword_removal(str(x), stop_words_remover))\n"
          ]
        }
      ]
    },
    {
      "cell_type": "code",
      "source": [
        "# Menyimpan data setelah stopword removal ke file CSV\n",
        "output_file = '/content/drive/MyDrive/DST/Hasil_Preprocesing_CNN.csv'\n",
        "df_step_9.to_csv(output_file, index=False)\n",
        "\n",
        "print(f\"\\nProcessed data saved to: {output_file}\")"
      ],
      "metadata": {
        "colab": {
          "base_uri": "https://localhost:8080/"
        },
        "id": "m5qZu3l9hCDt",
        "outputId": "3d54723b-acfb-400f-8b47-4f61525b3a68"
      },
      "execution_count": null,
      "outputs": [
        {
          "output_type": "stream",
          "name": "stdout",
          "text": [
            "\n",
            "Processed data saved to: /content/drive/MyDrive/DST/Hasil_Preprocesing_CNN.csv\n"
          ]
        }
      ]
    },
    {
      "cell_type": "markdown",
      "source": [
        "11. Balanced Data"
      ],
      "metadata": {
        "id": "DYZaeW-hYRUr"
      }
    },
    {
      "cell_type": "code",
      "source": [
        "import pandas as pd\n",
        "\n",
        "# Membaca data dari Google Drive\n",
        "file_path = '/content/drive/MyDrive/DST/Hasil_Preprocesing_CNN.csv'  # Ganti path dengan lokasi file Anda\n",
        "df = pd.read_csv(file_path)\n",
        "\n",
        "# Menampilkan jumlah data sebelum penghapusan\n",
        "print(\"Jumlah data sebelum menghapus baris dengan content null:\")\n",
        "print(df.info())"
      ],
      "metadata": {
        "colab": {
          "base_uri": "https://localhost:8080/"
        },
        "id": "69mNyN0Ae1lj",
        "outputId": "bd7e72eb-a51c-4216-9b08-9ee23a658899"
      },
      "execution_count": null,
      "outputs": [
        {
          "output_type": "stream",
          "name": "stdout",
          "text": [
            "Jumlah data sebelum menghapus baris dengan content null:\n",
            "<class 'pandas.core.frame.DataFrame'>\n",
            "RangeIndex: 11474 entries, 0 to 11473\n",
            "Data columns (total 3 columns):\n",
            " #   Column   Non-Null Count  Dtype \n",
            "---  ------   --------------  ----- \n",
            " 0   title    11474 non-null  object\n",
            " 1   content  11471 non-null  object\n",
            " 2   label    11474 non-null  object\n",
            "dtypes: object(3)\n",
            "memory usage: 269.0+ KB\n",
            "None\n"
          ]
        }
      ]
    },
    {
      "cell_type": "code",
      "source": [
        "# Menghapus baris yang memiliki nilai null pada kolom 'content'\n",
        "df_cleaned = df.dropna(subset=['content'])\n",
        "\n",
        "# Menampilkan jumlah data setelah penghapusan\n",
        "print(\"\\nJumlah data setelah menghapus baris dengan content null:\")\n",
        "print(df_cleaned.info())"
      ],
      "metadata": {
        "colab": {
          "base_uri": "https://localhost:8080/"
        },
        "id": "R5gvBEpSiaJn",
        "outputId": "d98e605e-446d-40ae-c160-a978867f4388"
      },
      "execution_count": null,
      "outputs": [
        {
          "output_type": "stream",
          "name": "stdout",
          "text": [
            "\n",
            "Jumlah data setelah menghapus baris dengan content null:\n",
            "<class 'pandas.core.frame.DataFrame'>\n",
            "Index: 11471 entries, 0 to 11473\n",
            "Data columns (total 3 columns):\n",
            " #   Column   Non-Null Count  Dtype \n",
            "---  ------   --------------  ----- \n",
            " 0   title    11471 non-null  object\n",
            " 1   content  11471 non-null  object\n",
            " 2   label    11471 non-null  object\n",
            "dtypes: object(3)\n",
            "memory usage: 358.5+ KB\n",
            "None\n"
          ]
        }
      ]
    },
    {
      "cell_type": "code",
      "source": [
        "# Fungsi untuk mengambil maksimal 1600 data per label\n",
        "def sample_per_label(df, label_column, sample_size=1600):\n",
        "    sampled_df = (\n",
        "        df.groupby(label_column)\n",
        "        .apply(lambda x: x.sample(n=min(len(x), sample_size), random_state=42))\n",
        "    )\n",
        "    return sampled_df.reset_index(drop=True)\n",
        "\n",
        "# Mengambil maksimal 1600 data per label\n",
        "df_sampled = sample_per_label(df_cleaned, label_column='label', sample_size=1600)\n",
        "\n",
        "# Menampilkan distribusi data per label\n",
        "print(\"\\nDistribusi data setelah sampling:\")\n",
        "print(df_sampled['label'].value_counts())\n",
        "\n",
        "# Menyimpan hasil ke file CSV\n",
        "output_file = '/content/drive/MyDrive/DST/Balanced_Hasil_Preprocesing_CNN.csv'\n",
        "df_sampled.to_csv(output_file, index=False)\n",
        "\n",
        "print(f\"\\nData yang telah di-sampling disimpan di: {output_file}\")"
      ],
      "metadata": {
        "colab": {
          "base_uri": "https://localhost:8080/"
        },
        "id": "ZUbhquIFiovR",
        "outputId": "a8e318e7-caee-4dd8-f89c-284cd4f8c098"
      },
      "execution_count": null,
      "outputs": [
        {
          "output_type": "stream",
          "name": "stderr",
          "text": [
            "<ipython-input-155-a179a31a47a7>:5: DeprecationWarning: DataFrameGroupBy.apply operated on the grouping columns. This behavior is deprecated, and in a future version of pandas the grouping columns will be excluded from the operation. Either pass `include_groups=False` to exclude the groupings or explicitly select the grouping columns after groupby to silence this warning.\n",
            "  .apply(lambda x: x.sample(n=min(len(x), sample_size), random_state=42))\n"
          ]
        },
        {
          "output_type": "stream",
          "name": "stdout",
          "text": [
            "\n",
            "Distribusi data setelah sampling:\n",
            "label\n",
            "ekonomi             1600\n",
            "hiburan             1600\n",
            "hukumdankriminal    1600\n",
            "kesehatan           1600\n",
            "politik             1600\n",
            "teknologi           1600\n",
            "Name: count, dtype: int64\n",
            "\n",
            "Data yang telah di-sampling disimpan di: /content/drive/MyDrive/DST/Balanced_Hasil_Preprocesing_CNN.csv\n"
          ]
        }
      ]
    },
    {
      "cell_type": "code",
      "source": [
        "import pandas as pd\n",
        "\n",
        "# Membaca data dari Google Drive\n",
        "file_path = '/content/drive/MyDrive/DST/Balanced_Hasil_Preprocesing_CNN.csv'  # Ganti path dengan lokasi file Anda\n",
        "df = pd.read_csv(file_path)\n",
        "\n",
        "# Menampilkan jumlah data sebelum penghapusan\n",
        "print(\"Jumlah data sebelum menghapus baris dengan content null:\")\n",
        "print(df.info())"
      ],
      "metadata": {
        "id": "z6olhnAGi8tm",
        "outputId": "27ee3c50-b868-40ea-b433-57573fb6b096",
        "colab": {
          "base_uri": "https://localhost:8080/"
        }
      },
      "execution_count": null,
      "outputs": [
        {
          "output_type": "stream",
          "name": "stdout",
          "text": [
            "Jumlah data sebelum menghapus baris dengan content null:\n",
            "<class 'pandas.core.frame.DataFrame'>\n",
            "RangeIndex: 9600 entries, 0 to 9599\n",
            "Data columns (total 3 columns):\n",
            " #   Column   Non-Null Count  Dtype \n",
            "---  ------   --------------  ----- \n",
            " 0   title    9600 non-null   object\n",
            " 1   content  9600 non-null   object\n",
            " 2   label    9600 non-null   object\n",
            "dtypes: object(3)\n",
            "memory usage: 225.1+ KB\n",
            "None\n"
          ]
        }
      ]
    }
  ]
}